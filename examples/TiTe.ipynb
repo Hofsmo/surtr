{
 "cells": [
  {
   "cell_type": "markdown",
   "id": "453cd92a-ecf2-4cd0-b4e6-0b25702397ac",
   "metadata": {},
   "source": [
    "# Test simple thermal equations"
   ]
  },
  {
   "cell_type": "markdown",
   "id": "9f7f62d6-ce3e-4043-85ca-b29e14e16786",
   "metadata": {},
   "source": [
    "## Mathematical model"
   ]
  },
  {
   "cell_type": "markdown",
   "id": "e7da0ca8-1bbf-48bb-9080-44db3a2fb53f",
   "metadata": {},
   "source": [
    "We will investigate a room represented as a TiTe circuit depcited below"
   ]
  },
  {
   "cell_type": "markdown",
   "id": "772463f7-8cca-492c-8902-e091cc0ec464",
   "metadata": {},
   "source": [
    "![alt text](TiTe.png \"Title\")"
   ]
  },
  {
   "cell_type": "markdown",
   "id": "05459df9-02f8-41d7-a7fb-4fe6146af07f",
   "metadata": {},
   "source": [
    "We can write the following equations for this system\n",
    "\n",
    "$$Q=C_i\\frac{dT_i}{dt}+\\frac{T_i-T_e}{R_{ie}}$$\n",
    "$$C_e\\frac{dT_e}{dt}+\\frac{T_e-T_i}{R_{ie}}+\\frac{T_e-T_a}{R_{ee}}=$$\n",
    "\n",
    "This can also be written as a system of equations as follows\n",
    "$$\\dot{\\mathbf{x}}=A\\mathbf{x}+b\\mathbf{u}$$\n",
    "with \n",
    "$$\\mathbf{x}=\\begin{bmatrix} T_i\\\\ T_e \\end{bmatrix}$$\n",
    "$$A=\\begin{bmatrix} \\tau_i & -\\tau_i \\\\\n",
    "                    -\\tau_{ie} & \\tau_{ie}+\\tau_{ea}\n",
    "    \\end{bmatrix}\n",
    "$$\n",
    "$$b= \\begin{bmatrix}-C_i \\\\-\\tau_{ae}\\end{bmatrix}$$\n",
    "$$\\mathbf{u}=\\begin{bmatrix}Q\\\\T_a\\end{bmatrix}$$\n",
    "$\\tau_i=1/(R_{ie}C_i)$, $\\tau_{ie}=1/(R_{ie}C_e)$, $\\tau_{ea}=1/(R_{ea}C_e)$"
   ]
  },
  {
   "cell_type": "markdown",
   "id": "f0354659-5a2b-4336-928d-094cb560229d",
   "metadata": {},
   "source": [
    "## System set up"
   ]
  },
  {
   "cell_type": "markdown",
   "id": "5b49183f-5a96-4029-ae00-0072708e857c",
   "metadata": {},
   "source": [
    "$\\tau_i = 0.2$, $\\tau_{ie} = 2$ $\\tau_{ea}=1.5$"
   ]
  },
  {
   "cell_type": "code",
   "execution_count": 1,
   "id": "ac775e4a-3202-41d8-b6b5-9eb6412eac3d",
   "metadata": {},
   "outputs": [],
   "source": [
    "import numpy as np\n",
    "import matplotlib.pyplot as plt"
   ]
  },
  {
   "cell_type": "code",
   "execution_count": 2,
   "id": "57940c7c-61d4-4233-b08e-023651db7341",
   "metadata": {},
   "outputs": [],
   "source": [
    "tau_i = 0.2\n",
    "tau_ie = 2\n",
    "tau_ea = 1.5\n",
    "C_i = 10"
   ]
  },
  {
   "cell_type": "code",
   "execution_count": 3,
   "id": "321b625f-90c7-465a-9b5a-4c633c82c1c7",
   "metadata": {},
   "outputs": [],
   "source": [
    "A = np.array([[-tau_i, tau_i],[tau_ie, -tau_ie-tau_ea]])\n",
    "b = np.array([1/C_i,tau_ea])"
   ]
  },
  {
   "cell_type": "code",
   "execution_count": 4,
   "id": "003950e9-5dd4-4f5a-bbcb-f78e9fb1ef7b",
   "metadata": {},
   "outputs": [],
   "source": [
    "dt = 0.1\n",
    "n = 600\n",
    "Ta = 15\n",
    "Ti = 20\n",
    "\n",
    "u1 = np.zeros((n, 1))\n",
    "u1[300:] = 10\n",
    "u2 = np.ones((n, 1))*Ta\n",
    "u = np.concatenate((u1, u2), axis=1)\n",
    "x = np.zeros((n,2))\n"
   ]
  },
  {
   "cell_type": "code",
   "execution_count": 5,
   "id": "177707d9-20a1-40c6-982d-bbeafb0e12be",
   "metadata": {},
   "outputs": [],
   "source": [
    "x0 = np.array([Ti, (Ti+Ta)/2])\n",
    "x[0,:]=x0"
   ]
  },
  {
   "cell_type": "code",
   "execution_count": 6,
   "id": "77b06961-56bd-4405-89f2-00d25c882529",
   "metadata": {},
   "outputs": [],
   "source": [
    "def J(x_i, u_i):\n",
    "    return A@x_i+b*u_i"
   ]
  },
  {
   "cell_type": "code",
   "execution_count": 7,
   "id": "c3f68888-526d-4f96-9b31-49e180ac7203",
   "metadata": {},
   "outputs": [],
   "source": [
    "for i in np.arange(1,n):\n",
    "    x[i, :] = x[i-1, :]+J(x[i-1, :], u[i-1, :])*dt"
   ]
  },
  {
   "cell_type": "code",
   "execution_count": 8,
   "id": "faac8148-75ff-456f-b848-4d59edc867b0",
   "metadata": {},
   "outputs": [
    {
     "data": {
      "text/plain": [
       "[<matplotlib.lines.Line2D at 0x7f81889476d0>,\n",
       " <matplotlib.lines.Line2D at 0x7f81735b5cd0>]"
      ]
     },
     "execution_count": 8,
     "metadata": {},
     "output_type": "execute_result"
    },
    {
     "data": {
      "image/png": "[encoded data removed]",
      "text/plain": [
       "<Figure size 640x480 with 1 Axes>"
      ]
     },
     "metadata": {},
     "output_type": "display_data"
    }
   ],
   "source": [
    "plt.plot(x)"
   ]
  },
  {
   "cell_type": "code",
   "execution_count": 9,
   "id": "cca9abb1-f47c-4900-9c10-17fbbdd425bd",
   "metadata": {},
   "outputs": [
    {
     "data": {
      "text/plain": [
       "array([25.73429397, 21.1209503 ])"
      ]
     },
     "execution_count": 9,
     "metadata": {},
     "output_type": "execute_result"
    }
   ],
   "source": [
    "x[-1,:]"
   ]
  },
  {
   "cell_type": "code",
   "execution_count": 32,
   "id": "c3db4769-658c-4ed1-8287-8331efadbb95",
   "metadata": {},
   "outputs": [],
   "source": [
    "from pyomo.environ import *"
   ]
  },
  {
   "cell_type": "code",
   "execution_count": null,
   "id": "4ce78bd0-02ff-4971-a678-96a6a3ecc843",
   "metadata": {},
   "outputs": [],
   "source": [
    "model.x"
   ]
  }
 ],
 "metadata": {
  "kernelspec": {
   "display_name": "Python 3 (ipykernel)",
   "language": "python",
   "name": "python3"
  },
  "language_info": {
   "codemirror_mode": {
    "name": "ipython",
    "version": 3
   },
   "file_extension": ".py",
   "mimetype": "text/x-python",
   "name": "python",
   "nbconvert_exporter": "python",
   "pygments_lexer": "ipython3",
   "version": "3.11.5"
  }
 },
 "nbformat": 4,
 "nbformat_minor": 5
}
