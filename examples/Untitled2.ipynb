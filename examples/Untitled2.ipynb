{
 "cells": [
  {
   "cell_type": "markdown",
   "id": "453cd92a-ecf2-4cd0-b4e6-0b25702397ac",
   "metadata": {},
   "source": [
    "# Test simple thermal equations"
   ]
  },
  {
   "cell_type": "markdown",
   "id": "e7da0ca8-1bbf-48bb-9080-44db3a2fb53f",
   "metadata": {},
   "source": [
    "We will investigate a room represented as a TiTe circuit depcited below"
   ]
  },
  {
   "cell_type": "markdown",
   "id": "772463f7-8cca-492c-8902-e091cc0ec464",
   "metadata": {},
   "source": [
    "![alt text](TiTe.png \"Title\")"
   ]
  },
  {
   "cell_type": "markdown",
   "id": "05459df9-02f8-41d7-a7fb-4fe6146af07f",
   "metadata": {},
   "source": [
    "We can write the following equations for this system\n",
    "\n",
    "$$\\frac{T_i-T_e}{R_{ie}}=C_i\\frac{dT_i}{dt}+Q$$\n",
    "$$\\frac{T_e-T_i}{R_{ie}}+\\frac{T_e-T_a}{R_{ee}}=C_e\\frac{dT_e}{dt}$$\n",
    "\n",
    "This can also be written as a system of equations as follows"
   ]
  },
  {
   "cell_type": "markdown",
   "id": "f0354659-5a2b-4336-928d-094cb560229d",
   "metadata": {},
   "source": []
  }
 ],
 "metadata": {
  "kernelspec": {
   "display_name": "testPyomoEnv",
   "language": "python",
   "name": "testpyomoenv"
  },
  "language_info": {
   "codemirror_mode": {
    "name": "ipython",
    "version": 3
   },
   "file_extension": ".py",
   "mimetype": "text/x-python",
   "name": "python",
   "nbconvert_exporter": "python",
   "pygments_lexer": "ipython3",
   "version": "3.10.8"
  }
 },
 "nbformat": 4,
 "nbformat_minor": 5
}
